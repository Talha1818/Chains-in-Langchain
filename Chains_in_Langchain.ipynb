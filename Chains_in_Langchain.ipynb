{
  "nbformat": 4,
  "nbformat_minor": 0,
  "metadata": {
    "colab": {
      "provenance": [],
      "authorship_tag": "ABX9TyPWPOv2DGVsxcxR4hNS3MUo",
      "include_colab_link": true
    },
    "kernelspec": {
      "name": "python3",
      "display_name": "Python 3"
    },
    "language_info": {
      "name": "python"
    }
  },
  "cells": [
    {
      "cell_type": "markdown",
      "metadata": {
        "id": "view-in-github",
        "colab_type": "text"
      },
      "source": [
        "<a href=\"https://colab.research.google.com/github/Talha1818/Chains-in-Langchain/blob/master/Chains_in_Langchain.ipynb\" target=\"_parent\"><img src=\"https://colab.research.google.com/assets/colab-badge.svg\" alt=\"Open In Colab\"/></a>"
      ]
    },
    {
      "cell_type": "code",
      "execution_count": 23,
      "metadata": {
        "colab": {
          "base_uri": "https://localhost:8080/"
        },
        "id": "AqemydPy1LfV",
        "outputId": "602aa82d-1d89-4817-c0e7-7bf2f8ea57dc"
      },
      "outputs": [
        {
          "output_type": "stream",
          "name": "stdout",
          "text": [
            "\u001b[?25l   \u001b[90m━━━━━━━━━━━━━━━━━━━━━━━━━━━━━━━━━━━━━━━━\u001b[0m \u001b[32m0.0/41.8 kB\u001b[0m \u001b[31m?\u001b[0m eta \u001b[36m-:--:--\u001b[0m\r\u001b[2K   \u001b[90m━━━━━━━━━━━━━━━━━━━━━━━━━━━━━━━━━━━━━━━━\u001b[0m \u001b[32m41.8/41.8 kB\u001b[0m \u001b[31m2.3 MB/s\u001b[0m eta \u001b[36m0:00:00\u001b[0m\n",
            "\u001b[?25h"
          ]
        }
      ],
      "source": [
        "!pip install -q \\\n",
        "langchain \\\n",
        "langchain-core \\\n",
        "langchain-openai \\\n",
        "openai \\\n",
        "langchain-anthropic \\\n",
        "langchain-google-genai \\\n",
        "google-generativeai \\\n",
        "langchain-huggingface \\\n",
        "transformers \\\n",
        "huggingface-hub \\\n",
        "langchain-groq \\\n",
        "python-dotenv \\\n",
        "numpy \\\n",
        "scikit-learn \\\n",
        "grandalf"
      ]
    },
    {
      "cell_type": "markdown",
      "source": [
        "# **Simple Chain**\n",
        "_______________"
      ],
      "metadata": {
        "id": "zY8E1E2c1QXT"
      }
    },
    {
      "cell_type": "code",
      "source": [
        "from langchain.prompts import PromptTemplate\n",
        "from langchain_groq import ChatGroq\n",
        "from langchain_core.output_parsers import StrOutputParser\n",
        "import getpass\n",
        "import os"
      ],
      "metadata": {
        "id": "IC0CW7Gy3Jjv"
      },
      "execution_count": 6,
      "outputs": []
    },
    {
      "cell_type": "code",
      "source": [
        "prompt = PromptTemplate(\n",
        "    input_variables=[\"player\"],\n",
        "    template=\"Write down the 5 lines about this {player}?\",\n",
        ")"
      ],
      "metadata": {
        "id": "GvXSu5Zy30I4"
      },
      "execution_count": 7,
      "outputs": []
    },
    {
      "cell_type": "code",
      "source": [
        "os.environ[\"GROQ_API_KEY\"] = getpass.getpass()"
      ],
      "metadata": {
        "colab": {
          "base_uri": "https://localhost:8080/"
        },
        "id": "0F_sdFYa3OuX",
        "outputId": "3feba94f-5e38-4a9d-bde9-54e4c3ec5eb1"
      },
      "execution_count": 8,
      "outputs": [
        {
          "name": "stdout",
          "output_type": "stream",
          "text": [
            "··········\n"
          ]
        }
      ]
    },
    {
      "cell_type": "code",
      "source": [
        "model = ChatGroq(model=\"llama3-8b-8192\", temperature=0)"
      ],
      "metadata": {
        "id": "XMvuPYFcDcyH"
      },
      "execution_count": 15,
      "outputs": []
    },
    {
      "cell_type": "code",
      "source": [
        "parser = StrOutputParser()"
      ],
      "metadata": {
        "id": "gyxjzmjVDev5"
      },
      "execution_count": 16,
      "outputs": []
    },
    {
      "cell_type": "code",
      "source": [
        "chain = prompt | model | parser # make a simple chain"
      ],
      "metadata": {
        "id": "xdhY_uCDDkdX"
      },
      "execution_count": 17,
      "outputs": []
    },
    {
      "cell_type": "code",
      "source": [
        "res = chain.invoke({\"player\": \"Virat Kohli\"})\n",
        "print(res)"
      ],
      "metadata": {
        "colab": {
          "base_uri": "https://localhost:8080/"
        },
        "id": "2Q9iVBETDtXf",
        "outputId": "8b357050-791a-4c2b-e4be-82f1990ebedc"
      },
      "execution_count": 21,
      "outputs": [
        {
          "output_type": "stream",
          "name": "stdout",
          "text": [
            "Here are 5 lines about Virat Kohli:\n",
            "\n",
            "1. Virat Kohli is an Indian cricketer who is widely regarded as one of the greatest batsmen of all time.\n",
            "2. He is the current captain of the Indian national team in all formats of the game.\n",
            "3. Kohli has been a dominant force in international cricket, holding numerous records and awards, including the ICC Cricketer of the Year award.\n",
            "4. He is known for his aggressive batting style, which has earned him the nickname \"The Run Machine\".\n",
            "5. Kohli has also been a successful captain, leading India to several victories in Test matches, One-Day Internationals (ODIs), and Twenty20 Internationals (T20Is).\n"
          ]
        }
      ]
    },
    {
      "cell_type": "code",
      "source": [
        "chain.get_graph().print_ascii()"
      ],
      "metadata": {
        "colab": {
          "base_uri": "https://localhost:8080/"
        },
        "id": "oa9CobN4ENIz",
        "outputId": "836ecbd8-f6ab-4171-8b6a-f6a324fe3be9"
      },
      "execution_count": 24,
      "outputs": [
        {
          "output_type": "stream",
          "name": "stdout",
          "text": [
            "     +-------------+       \n",
            "     | PromptInput |       \n",
            "     +-------------+       \n",
            "            *              \n",
            "            *              \n",
            "            *              \n",
            "    +----------------+     \n",
            "    | PromptTemplate |     \n",
            "    +----------------+     \n",
            "            *              \n",
            "            *              \n",
            "            *              \n",
            "      +----------+         \n",
            "      | ChatGroq |         \n",
            "      +----------+         \n",
            "            *              \n",
            "            *              \n",
            "            *              \n",
            "   +-----------------+     \n",
            "   | StrOutputParser |     \n",
            "   +-----------------+     \n",
            "            *              \n",
            "            *              \n",
            "            *              \n",
            "+-----------------------+  \n",
            "| StrOutputParserOutput |  \n",
            "+-----------------------+  \n"
          ]
        }
      ]
    },
    {
      "cell_type": "markdown",
      "source": [
        "# **Sequential Chain**\n",
        "____________"
      ],
      "metadata": {
        "id": "ufCc7M2TEBUl"
      }
    },
    {
      "cell_type": "code",
      "source": [
        "prompt1 = PromptTemplate(\n",
        "    input_variables=[\"player\"],\n",
        "    template=\"Write details report on this {player}?\",\n",
        ")\n",
        "\n",
        "prompt2 = PromptTemplate(\n",
        "    input_variables=['player_details'],\n",
        "    template=\"Write down the 5 lines about this {player_details}?\",\n",
        ")"
      ],
      "metadata": {
        "id": "5wmA0M4PDyp6"
      },
      "execution_count": 25,
      "outputs": []
    },
    {
      "cell_type": "code",
      "source": [
        "chain = prompt1 | model | parser | prompt2 | model | parser"
      ],
      "metadata": {
        "id": "FHmv_tcPEsRF"
      },
      "execution_count": 26,
      "outputs": []
    },
    {
      "cell_type": "code",
      "source": [
        "print(chain.invoke({\"player\": \"Virat Kohli\"}))"
      ],
      "metadata": {
        "colab": {
          "base_uri": "https://localhost:8080/"
        },
        "id": "OvSbKppwE0s5",
        "outputId": "97d66851-e2a9-425b-9451-1c0fd43ea11b"
      },
      "execution_count": 27,
      "outputs": [
        {
          "output_type": "stream",
          "name": "stdout",
          "text": [
            "Here are the 5 lines about Virat Kohli:\n",
            "\n",
            "1. Virat Kohli was born on November 5, 1988, in Delhi, India, and began playing cricket at a young age.\n",
            "2. He made his One-Day International (ODI) debut for India in 2008 against Sri Lanka and scored his first ODI century in 2011 against West Indies.\n",
            "3. Kohli has achieved numerous milestones in his career, including being the fastest to 7,000 ODI runs and most ODI centuries by an Indian.\n",
            "4. He is known for his aggressive and dominant style of play, particularly effective against fast bowling, and has an average of 58.21 in ODI cricket, the highest among all batsmen with a minimum of 5,000 runs.\n",
            "5. Kohli has been the captain of the Indian Test team since 2015 and has led the team to several victories, including a series win in Australia in 2018-19, and is known for his tactical acumen and ability to motivate his teammates.\n"
          ]
        }
      ]
    },
    {
      "cell_type": "code",
      "source": [
        "chain.get_graph().print_ascii()"
      ],
      "metadata": {
        "colab": {
          "base_uri": "https://localhost:8080/"
        },
        "id": "quA0t-KiE2ly",
        "outputId": "05c5ea40-c6d2-45e5-8a43-9d5b70e34a95"
      },
      "execution_count": 28,
      "outputs": [
        {
          "output_type": "stream",
          "name": "stdout",
          "text": [
            "     +-------------+       \n",
            "     | PromptInput |       \n",
            "     +-------------+       \n",
            "            *              \n",
            "            *              \n",
            "            *              \n",
            "    +----------------+     \n",
            "    | PromptTemplate |     \n",
            "    +----------------+     \n",
            "            *              \n",
            "            *              \n",
            "            *              \n",
            "      +----------+         \n",
            "      | ChatGroq |         \n",
            "      +----------+         \n",
            "            *              \n",
            "            *              \n",
            "            *              \n",
            "   +-----------------+     \n",
            "   | StrOutputParser |     \n",
            "   +-----------------+     \n",
            "            *              \n",
            "            *              \n",
            "            *              \n",
            "+-----------------------+  \n",
            "| StrOutputParserOutput |  \n",
            "+-----------------------+  \n",
            "            *              \n",
            "            *              \n",
            "            *              \n",
            "    +----------------+     \n",
            "    | PromptTemplate |     \n",
            "    +----------------+     \n",
            "            *              \n",
            "            *              \n",
            "            *              \n",
            "      +----------+         \n",
            "      | ChatGroq |         \n",
            "      +----------+         \n",
            "            *              \n",
            "            *              \n",
            "            *              \n",
            "   +-----------------+     \n",
            "   | StrOutputParser |     \n",
            "   +-----------------+     \n",
            "            *              \n",
            "            *              \n",
            "            *              \n",
            "+-----------------------+  \n",
            "| StrOutputParserOutput |  \n",
            "+-----------------------+  \n"
          ]
        }
      ]
    },
    {
      "cell_type": "markdown",
      "source": [
        "# **Parallel Chain**\n",
        "__________"
      ],
      "metadata": {
        "id": "HFQ3cFDhFFN7"
      }
    },
    {
      "cell_type": "code",
      "source": [
        "prompt1 = PromptTemplate(\n",
        "    template='Generate short and simple notes from the following text \\n {text}',\n",
        "    input_variables=['text']\n",
        ")\n",
        "\n",
        "prompt2 = PromptTemplate(\n",
        "    template='Generate 5 short question answers from the following text \\n {text}',\n",
        "    input_variables=['text']\n",
        ")\n",
        "\n",
        "prompt3 = PromptTemplate(\n",
        "    template='Merge the provided notes and quiz into a single document \\n notes -> {notes} and quiz -> {quiz}',\n",
        "    input_variables=['notes', 'quiz']\n",
        ")"
      ],
      "metadata": {
        "id": "MLK_AVMGE-ZV"
      },
      "execution_count": 29,
      "outputs": []
    },
    {
      "cell_type": "code",
      "source": [
        "from langchain.schema.runnable import RunnableParallel"
      ],
      "metadata": {
        "id": "B12dNRIHOagv"
      },
      "execution_count": 30,
      "outputs": []
    },
    {
      "cell_type": "code",
      "source": [
        "parallel_chain = RunnableParallel({\n",
        "    \"notes\": prompt1 | model | parser,\n",
        "    \"quiz\": prompt2 | model | parser\n",
        "})"
      ],
      "metadata": {
        "id": "PGErjzs6OOJN"
      },
      "execution_count": 31,
      "outputs": []
    },
    {
      "cell_type": "code",
      "source": [
        "merge_chain = prompt3 | model | parser"
      ],
      "metadata": {
        "id": "nBtVPFpjOoFq"
      },
      "execution_count": 32,
      "outputs": []
    },
    {
      "cell_type": "code",
      "source": [
        "chain = parallel_chain | merge_chain"
      ],
      "metadata": {
        "id": "4gHrdX9PO4SD"
      },
      "execution_count": 33,
      "outputs": []
    },
    {
      "cell_type": "code",
      "source": [
        "text = \"\"\"\n",
        "Virat Kohli (born 5 November 1988)[b] is an Indian international cricketer who plays Test and ODI cricket for the national team and is a former captain in all formats.[5] He is a right-handed batsman and an occasional right arm medium pace bowler. He is called the king, the chase master and the run machine for his playing style, records and ability to lead the team to victory.[6] Kohli is the highest run-scorer in the Indian Premier League, third in T20I, third in ODI, and third in international cricket.[7] Regarded as one of the greatest batsmen of all time, he holds the record for the most ODI centuries and has the second most centuries in international cricket.[8] Kohli is also the only captain to lead India to three consecutive Test mace wins during 2017, 2018, and 2019.[9]\n",
        "\n",
        "Kohli led the Indian team to victory at the 2008 U19 World Cup and was a key member of the teams that won the 2011 ODI World Cup, 2013 Champions Trophy, 2024 T20 World Cup and 2025 Champions Trophy. He represents Royal Challengers Bengaluru in the Indian Premier League and Delhi in domestic cricket. In 2013, Kohli was ranked number one in the ODI batting rankings. In 2015, he achieved the same in T20I.[10] In 2018, he was ranked the number one Test batsman, making him the only Indian to hold the number one spot in all three formats. He is the first player to score 20,000 runs in a decade. ICC named him the male cricketer of the decade for the years 2011 to 2020.[11]\n",
        "\n",
        "Kohli has garnered 10 ICC Awards making him the most awarded player in international cricket history. He won the ODI Player of the Year award four times in 2012, 2017, 2018, and 2023. He has also won the Sir Garfield Sobers Trophy given to the Cricketer of the Year, on two occasions, in 2017 and 2018. In 2018, he touched his peak and became the first player to win all the three major awards Garfield Sobers trophy, ODI and Test Player of the Year awards in the same year. He was awarded with Spirit of Cricket Award in 2019. He was also awarded with Cricketer of the Decade and ODI Cricketer of the Decade in 2020. Kohli was named the Wisden Leading Cricketer in the World for three consecutive years, from 2016 to 2018. Kohli has the most Player of the Series awards and second most Player of the Match awards to his name in all three formats combined. He was honoured with the Arjuna Award in 2013, the Padma Shri in 2017, and India's highest sporting honour, the Khel Ratna Award, in 2018. Time magazine included him on its list of the 100 most influential people in the world in 2018.\n",
        "\"\"\"\n"
      ],
      "metadata": {
        "id": "Y9vJJJqEPILJ"
      },
      "execution_count": 34,
      "outputs": []
    },
    {
      "cell_type": "code",
      "source": [
        "print(chain.invoke({\"text\": text}))"
      ],
      "metadata": {
        "colab": {
          "base_uri": "https://localhost:8080/"
        },
        "id": "pIL4XliOO7sp",
        "outputId": "9e3a0824-0106-44fb-d2a7-4e3fb984d537"
      },
      "execution_count": 36,
      "outputs": [
        {
          "output_type": "stream",
          "name": "stdout",
          "text": [
            "Here is the merged document:\n",
            "\n",
            "**Virat Kohli**\n",
            "\n",
            "* Born: November 5, 1988\n",
            "* Indian international cricketer\n",
            "* Right-handed batsman and occasional right-arm medium pace bowler\n",
            "* Known as \"King\", \"Chase Master\", and \"Run Machine\"\n",
            "* Highest run-scorer in IPL, third in T20I, ODI, and international cricket\n",
            "* Regarded as one of the greatest batsmen of all time\n",
            "* Holds records for most ODI centuries and second most centuries in international cricket\n",
            "\n",
            "**Achievements**\n",
            "\n",
            "* Led India to three consecutive Test mace wins (2017, 2018, 2019)\n",
            "* Won ICC Awards 10 times, most awarded player in international cricket history\n",
            "* Won ODI Player of the Year award four times (2012, 2017, 2018, 2023)\n",
            "* Won Sir Garfield Sobers Trophy (Cricketer of the Year) twice (2017, 2018)\n",
            "* First player to win all three major awards in the same year (2018)\n",
            "* Named Wisden Leading Cricketer in the World three times (2016-2018)\n",
            "* Honoured with Arjuna Award, Padma Shri, Khel Ratna Award, and Time magazine's 100 most influential people in the world (2018)\n",
            "\n",
            "**Quiz**\n",
            "\n",
            "Q1: What is Virat Kohli's birthdate?\n",
            "A1: 5 November 1988\n",
            "\n",
            "Q2: What is Kohli's batting style?\n",
            "A2: Right-handed batsman\n",
            "\n",
            "Q3: What is Kohli's record in the Indian Premier League?\n",
            "A3: He is the highest run-scorer in the Indian Premier League\n",
            "\n",
            "Q4: What award did Kohli win in 2018, making him the first player to win all three major awards in the same year?\n",
            "A4: Garfield Sobers trophy, ODI and Test Player of the Year awards\n",
            "\n",
            "Q5: What award did Kohli receive in 2020, along with the Cricketer of the Decade award?\n",
            "A5: ODI Cricketer of the Decade\n"
          ]
        }
      ]
    },
    {
      "cell_type": "code",
      "source": [
        "chain.get_graph().print_ascii()"
      ],
      "metadata": {
        "colab": {
          "base_uri": "https://localhost:8080/"
        },
        "id": "IQHi6mqdQglY",
        "outputId": "083db25b-ed04-47b4-e149-7475931d96f7"
      },
      "execution_count": 37,
      "outputs": [
        {
          "output_type": "stream",
          "name": "stdout",
          "text": [
            "          +---------------------------+            \n",
            "          | Parallel<notes,quiz>Input |            \n",
            "          +---------------------------+            \n",
            "                ***             ***                \n",
            "              **                   **              \n",
            "            **                       **            \n",
            "+----------------+              +----------------+ \n",
            "| PromptTemplate |              | PromptTemplate | \n",
            "+----------------+              +----------------+ \n",
            "          *                             *          \n",
            "          *                             *          \n",
            "          *                             *          \n",
            "    +----------+                  +----------+     \n",
            "    | ChatGroq |                  | ChatGroq |     \n",
            "    +----------+                  +----------+     \n",
            "          *                             *          \n",
            "          *                             *          \n",
            "          *                             *          \n",
            "+-----------------+            +-----------------+ \n",
            "| StrOutputParser |            | StrOutputParser | \n",
            "+-----------------+            +-----------------+ \n",
            "                ***             ***                \n",
            "                   **         **                   \n",
            "                     **     **                     \n",
            "          +----------------------------+           \n",
            "          | Parallel<notes,quiz>Output |           \n",
            "          +----------------------------+           \n",
            "                         *                         \n",
            "                         *                         \n",
            "                         *                         \n",
            "                +----------------+                 \n",
            "                | PromptTemplate |                 \n",
            "                +----------------+                 \n",
            "                         *                         \n",
            "                         *                         \n",
            "                         *                         \n",
            "                   +----------+                    \n",
            "                   | ChatGroq |                    \n",
            "                   +----------+                    \n",
            "                         *                         \n",
            "                         *                         \n",
            "                         *                         \n",
            "                +-----------------+                \n",
            "                | StrOutputParser |                \n",
            "                +-----------------+                \n",
            "                         *                         \n",
            "                         *                         \n",
            "                         *                         \n",
            "            +-----------------------+              \n",
            "            | StrOutputParserOutput |              \n",
            "            +-----------------------+              \n"
          ]
        }
      ]
    },
    {
      "cell_type": "markdown",
      "source": [
        "# **Conditional Chain**\n",
        "________________"
      ],
      "metadata": {
        "id": "gVmZqRhhPl83"
      }
    },
    {
      "cell_type": "code",
      "source": [
        "from langchain.schema.runnable import RunnableParallel, RunnableBranch, RunnableLambda\n",
        "from langchain_core.output_parsers import PydanticOutputParser\n",
        "from pydantic import BaseModel, Field\n",
        "from typing import Literal"
      ],
      "metadata": {
        "id": "er-AKurZPXSC"
      },
      "execution_count": 38,
      "outputs": []
    },
    {
      "cell_type": "code",
      "source": [
        "class Feedback(BaseModel):\n",
        "    sentiment: Literal[\"positive\", \"neutral\", \"negative\"] = Field(description=\"sentiment of text\")\n",
        "    language: str = Field(description=\"language of text\")"
      ],
      "metadata": {
        "id": "f0EOq0gTSL9i"
      },
      "execution_count": 39,
      "outputs": []
    },
    {
      "cell_type": "code",
      "source": [
        "parser2 = PydanticOutputParser(pydantic_object=Feedback)"
      ],
      "metadata": {
        "id": "36LuTd9lUr5X"
      },
      "execution_count": 40,
      "outputs": []
    },
    {
      "cell_type": "code",
      "source": [
        "prompt1 = PromptTemplate(\n",
        "    template='Classify the sentiment (positive, negative, neutral) and language of this feedback \\n {feedback} \\n {format_instruction}',\n",
        "    input_variables=['feedback'],\n",
        "    partial_variables={\"format_instruction\": parser2.get_format_instructions()}\n",
        ")"
      ],
      "metadata": {
        "id": "AkklpML5Uu5R"
      },
      "execution_count": 41,
      "outputs": []
    },
    {
      "cell_type": "code",
      "source": [
        "classifier_chain = prompt1 | model | parser2"
      ],
      "metadata": {
        "id": "FKnq6jYBWRaQ"
      },
      "execution_count": 42,
      "outputs": []
    },
    {
      "cell_type": "code",
      "source": [
        "res = classifier_chain.invoke({\"feedback\": \"This is a great product\"})\n",
        "print(res)"
      ],
      "metadata": {
        "colab": {
          "base_uri": "https://localhost:8080/"
        },
        "id": "e-2O4b7KWUiN",
        "outputId": "c4b9aed1-5503-44be-9b4b-6d8e49e4be18"
      },
      "execution_count": 45,
      "outputs": [
        {
          "output_type": "stream",
          "name": "stdout",
          "text": [
            "sentiment='positive' language='English'\n"
          ]
        }
      ]
    },
    {
      "cell_type": "code",
      "source": [
        "prompt2 = PromptTemplate(\n",
        "    template='Write an appropriate response to this positive feedback \\n {feedback}',\n",
        "    input_variables=['feedback']\n",
        ")\n",
        "\n",
        "prompt3 = PromptTemplate(\n",
        "    template='Write an appropriate response to this negative feedback \\n {feedback}',\n",
        "    input_variables=['feedback']\n",
        ")\n",
        "\n",
        "prompt4 = PromptTemplate(\n",
        "    template='Write an appropriate response to this neutral feedback \\n {feedback}',\n",
        "    input_variables=['feedback']\n",
        ")"
      ],
      "metadata": {
        "id": "LKwrLgKoWkZu"
      },
      "execution_count": 54,
      "outputs": []
    },
    {
      "cell_type": "code",
      "source": [
        "branch_chain = RunnableBranch(\n",
        "    (lambda x: x.sentiment == 'positive', prompt2 | model | parser),\n",
        "    (lambda x: x.sentiment == 'negative', prompt3 | model | parser),\n",
        "    (lambda x: x.sentiment == 'neutral', prompt4 | model | parser),\n",
        "    RunnableLambda(lambda x: \"could not find sentiment & language\")\n",
        ")"
      ],
      "metadata": {
        "id": "UfclEowSXIcb"
      },
      "execution_count": 58,
      "outputs": []
    },
    {
      "cell_type": "code",
      "source": [
        "chain = classifier_chain | branch_chain"
      ],
      "metadata": {
        "id": "xE4A8BhxXdkD"
      },
      "execution_count": 59,
      "outputs": []
    },
    {
      "cell_type": "code",
      "source": [
        "res = chain.invoke({\"feedback\": \"This is a great product\"})\n",
        "print(res)"
      ],
      "metadata": {
        "colab": {
          "base_uri": "https://localhost:8080/"
        },
        "id": "8Z9fOA6lXifm",
        "outputId": "6da7d02e-bf45-462a-fdca-55c008844147"
      },
      "execution_count": 60,
      "outputs": [
        {
          "output_type": "stream",
          "name": "stdout",
          "text": [
            "Here's a potential response to positive feedback:\n",
            "\n",
            "\"Wow, thank you so much for your kind words! We're thrilled to hear that you've had a great experience with us. Your feedback means a lot to us, and we're glad to know that we've been able to meet your expectations. If there's anything else we can do to make your experience even better, please don't hesitate to let us know. Thanks again for your feedback - we appreciate it!\"\n",
            "\n",
            "This response acknowledges the positive feedback, expresses gratitude, and shows appreciation for the customer's input. It also leaves the door open for further communication and feedback, which can help to build a stronger relationship with the customer.\n"
          ]
        }
      ]
    },
    {
      "cell_type": "code",
      "source": [
        "res = chain.invoke({\"feedback\": \"This is not bad but we want excellent product quality\"})\n",
        "print(res)"
      ],
      "metadata": {
        "colab": {
          "base_uri": "https://localhost:8080/"
        },
        "id": "Zl07Pg1qXjm9",
        "outputId": "169faccc-8a18-4d6f-9752-fb9febc8bab1"
      },
      "execution_count": 62,
      "outputs": [
        {
          "output_type": "stream",
          "name": "stdout",
          "text": [
            "Here's a potential response to neutral feedback:\n",
            "\n",
            "\"Thank you for taking the time to share your thoughts with us. We appreciate your feedback and will take it into consideration as we continue to improve our [product/service]. If you have any specific suggestions or ideas on how we can better meet your needs, please don't hesitate to let us know. We're always looking for ways to enhance our offerings and provide a better experience for our customers.\"\n",
            "\n",
            "This response acknowledges the customer's feedback, expresses gratitude for their input, and invites them to provide more specific suggestions or ideas. It also maintains a professional tone and doesn't make any promises or commitments that may be difficult to fulfill.\n"
          ]
        }
      ]
    },
    {
      "cell_type": "code",
      "source": [
        "chain.get_graph().print_ascii()"
      ],
      "metadata": {
        "colab": {
          "base_uri": "https://localhost:8080/"
        },
        "id": "nHexmKJ6YsEW",
        "outputId": "f1e6081b-c6ee-4b0c-f9a1-976db4df4a35"
      },
      "execution_count": 63,
      "outputs": [
        {
          "output_type": "stream",
          "name": "stdout",
          "text": [
            "    +-------------+      \n",
            "    | PromptInput |      \n",
            "    +-------------+      \n",
            "            *            \n",
            "            *            \n",
            "            *            \n",
            "   +----------------+    \n",
            "   | PromptTemplate |    \n",
            "   +----------------+    \n",
            "            *            \n",
            "            *            \n",
            "            *            \n",
            "      +----------+       \n",
            "      | ChatGroq |       \n",
            "      +----------+       \n",
            "            *            \n",
            "            *            \n",
            "            *            \n",
            "+----------------------+ \n",
            "| PydanticOutputParser | \n",
            "+----------------------+ \n",
            "            *            \n",
            "            *            \n",
            "            *            \n",
            "       +--------+        \n",
            "       | Branch |        \n",
            "       +--------+        \n",
            "            *            \n",
            "            *            \n",
            "            *            \n",
            "    +--------------+     \n",
            "    | BranchOutput |     \n",
            "    +--------------+     \n"
          ]
        }
      ]
    },
    {
      "cell_type": "code",
      "source": [],
      "metadata": {
        "id": "UL_N4ULdY6CH"
      },
      "execution_count": null,
      "outputs": []
    }
  ]
}